{
 "cells": [
  {
   "cell_type": "code",
   "execution_count": 3,
   "id": "8696c6d0",
   "metadata": {},
   "outputs": [
    {
     "data": {
      "text/plain": [
       "tensor([16.5984, 16.5984, 16.5984,  ..., 16.7714, 16.7714, 16.7714],\n",
       "       dtype=torch.float64)"
      ]
     },
     "execution_count": 3,
     "metadata": {},
     "output_type": "execute_result"
    }
   ],
   "source": [
    "import torch\n",
    "from main import *\n",
    "\n",
    "ngas, nliq, n, rxgas, rygas, rzgas, rxliq, ryliq, rzliq, ex, ey, ez, emx, emy, emz, boxliq, boxgas, cutgas2, cutliq2, vol = initia()\n",
    "\n",
    "coordinate_matrix_liq=torch.tensor([rxliq, ryliq, rzliq])\n",
    "coordinate_matrix_gas=torch.tensor([rxgas, rygas, rzgas])\n",
    "orientation_matrix=torch.tensor([ex, ey, ez])\n",
    "\n",
    "i, j = torch.triu_indices(ngas, ngas, offset=1)\n",
    "coord_i = coordinate_matrix_gas[:, i]\n",
    "coord_j = coordinate_matrix_gas[:, j]\n",
    "separation_matrix = coord_i - coord_j\n",
    "minimum_image_matrix=separation_matrix-1*torch.round(separation_matrix/1)\n",
    "scaled_matrix = minimum_image_matrix*boxgas\n",
    "zn = orientation_matrix[:, i]\n",
    "zm = orientation_matrix[:, j]\n",
    "\n",
    "minimum_contact_distance(scaled_matrix, zn, zm)\n",
    "\n",
    "#loss, total_distance, distance_matrix, minimum_image_matrix, separation_matrix, energy_matrix, scaled_matrix, box, total_minimum_contact_distance, minimum_contact_distance_matrix = energy(coordinate_matrix_gas, boxgas, orientation_matrix, ngas)\n"
   ]
  }
 ],
 "metadata": {
  "kernelspec": {
   "display_name": "gibbs",
   "language": "python",
   "name": "python3"
  },
  "language_info": {
   "codemirror_mode": {
    "name": "ipython",
    "version": 3
   },
   "file_extension": ".py",
   "mimetype": "text/x-python",
   "name": "python",
   "nbconvert_exporter": "python",
   "pygments_lexer": "ipython3",
   "version": "3.11.13"
  }
 },
 "nbformat": 4,
 "nbformat_minor": 5
}
